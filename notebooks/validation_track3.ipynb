{
 "cells": [
  {
   "cell_type": "code",
   "execution_count": 28,
   "metadata": {},
   "outputs": [],
   "source": [
    "import os\n",
    "os.chdir('/mnt/nas_siddharth/code_final/')\n",
    "\n",
    "import cv2\n",
    "import numpy as np\n",
    "import copy\n",
    "import os\n",
    "import h5py\n",
    "import pickle\n",
    "import time\n",
    "import glob\n",
    "\n",
    "from src.utils import multicam_toolbox as mct\n",
    "import matplotlib.pyplot as plt\n",
    "import yaml\n",
    "import scipy.io\n",
    "from scipy.optimize import linear_sum_assignment\n",
    "\n",
    "from tqdm import tqdm"
   ]
  },
  {
   "cell_type": "code",
   "execution_count": 29,
   "metadata": {},
   "outputs": [],
   "source": [
    "def calc_dist(p1, p2):\n",
    "    \n",
    "    d = np.zeros([p1.shape[0],p2.shape[0]])\n",
    "    d[:,:] = np.nan\n",
    "    \n",
    "    for i in range(p1.shape[0]):\n",
    "        for j in range(p2.shape[0]):\n",
    "            d[i,j] = np.sqrt(np.sum((p1[i,:]-p2[j,:])**2))\n",
    "\n",
    "    d[np.isnan(d)] = 1e20\n",
    "    \n",
    "    return d"
   ]
  },
  {
   "cell_type": "code",
   "execution_count": 30,
   "metadata": {},
   "outputs": [],
   "source": [
    "def check_performance(data_name, result_dir, kf_range=[0,1500]):\n",
    "    with open('/mnt/nas_siddharth/tracking_gt/calib/config.yaml', 'r') as f:\n",
    "        cfg = yaml.safe_load(f)\n",
    "    ID = cfg['camera_id']\n",
    "\n",
    "    annotation_file = f'/mnt/nas_siddharth/tracking_gt/annotation/{data_name}.pickle'\n",
    "    modelout_file = glob.glob(os.path.join(result_dir, data_name + '.*', 'kp3d.pickle')) #added '.*'\n",
    "    modelout_file = modelout_file[0]\n",
    "    fnum_file = glob.glob(os.path.join(result_dir, data_name + '*/' + str(ID[0]) + '/frame_num.npy'))\n",
    "    \n",
    "    fnum_file = fnum_file[0]\n",
    "\n",
    "    with open(annotation_file, 'rb') as f:\n",
    "        anno = pickle.load(f)\n",
    "\n",
    "    with open(modelout_file, 'rb') as f:\n",
    "        mout = pickle.load(f)\n",
    "\n",
    "    fnum = np.load(fnum_file)\n",
    "\n",
    "    KF = np.array(anno['keyframe_fnum'])\n",
    "    KF = KF[kf_range[0]:kf_range[1],0]\n",
    "\n",
    "    X_pred = mout['kp3d']\n",
    "    S_pred = mout['kp3d_score']\n",
    "\n",
    "    cnt = 0\n",
    "    R = []\n",
    "    for i, kf in enumerate(KF):\n",
    "        ii = i + kf_range[0]\n",
    "        j = np.argwhere(fnum==kf).ravel()\n",
    "        j = j[0]\n",
    "        x_gt = anno['annotation'][ii]['p3d']\n",
    "        skip_flag = anno['annotation'][ii]['skipped']\n",
    "\n",
    "        if np.sum(skip_flag) > 0:\n",
    "            #print(i, j, 'skipped')\n",
    "            continue\n",
    "        \n",
    "        x_pred = np.mean(X_pred[:,j,5:7,:], axis=1)\n",
    "        s_pred = np.nanmean(S_pred[:,j,:], axis=1)\n",
    "\n",
    "        I_pred = np.argwhere(s_pred>0).ravel()\n",
    "        I_gt = np.argwhere(np.logical_not(np.isnan(x_gt[:,0]))).ravel()\n",
    "\n",
    "        x_pred = x_pred[I_pred,:]\n",
    "        x_gt = x_gt[I_gt,:]\n",
    "        d = calc_dist(x_pred, x_gt)\n",
    "        row_ind, col_ind = linear_sum_assignment(d)\n",
    "\n",
    "        r = np.zeros(4)\n",
    "\n",
    "        tp = 0\n",
    "        for i_sub in range(col_ind.shape[0]):\n",
    "            if I_gt[col_ind[i_sub]] == I_pred[row_ind[i_sub]]:\n",
    "                if d[row_ind[i_sub], col_ind[i_sub]] < 400:\n",
    "                    tp += 1 # true positive\n",
    "        \n",
    "        n_gt = x_gt.shape[0]\n",
    "        n_pred = x_pred.shape[0]\n",
    "\n",
    "        for i_sub in range(4):\n",
    "            if i_sub in I_pred.tolist() and i_sub not in I_gt.tolist():\n",
    "                x_exit = np.array([5000, 0, 800])\n",
    "                d_ = np.sqrt(np.sum((x_pred[I_pred==i_sub,:]-x_exit)**2))\n",
    "                if d_ < 1000:\n",
    "                    n_pred -= 1\n",
    "\n",
    "        R.append([tp, n_gt, n_pred])\n",
    "        #print(i,j,r)\n",
    "\n",
    "    R = np.array(R)\n",
    "    RR = np.sum(R, axis=0)\n",
    "    TP = RR[0]\n",
    "    FN = RR[1] - TP\n",
    "    FP = RR[2] - TP\n",
    "\n",
    "    precision = TP/(TP+FP)\n",
    "    recall = TP/(TP+FN)\n",
    "\n",
    "    print(TP, FN, FP, precision, recall)\n",
    "\n",
    "    return TP, FN, FP, precision, recall"
   ]
  },
  {
   "cell_type": "code",
   "execution_count": 31,
   "metadata": {},
   "outputs": [],
   "source": [
    "import warnings\n",
    "warnings.filterwarnings(\"ignore\", category=RuntimeWarning)"
   ]
  },
  {
   "cell_type": "code",
   "execution_count": 32,
   "metadata": {},
   "outputs": [
    {
     "name": "stdout",
     "output_type": "stream",
     "text": [
      "dict_keys(['kp3d', 'kp3d_score', 'kp3d_err', 'joint_len'])\n",
      "(4, 9097, 17, 3)\n",
      "4\n"
     ]
    }
   ],
   "source": [
    "import pickle\n",
    "\n",
    "with open('/mnt/nas_siddharth/code_final/results3D_sweep/gp1d_20211015_170000/MT0.65_PR0.30_TL0.05_TB36/gp1d_20211015_170000.2325-2705/kp3d.pickle', 'rb') as f:\n",
    "    data = pickle.load(f)\n",
    "\n",
    "print(data.keys())\n",
    "print(data['kp3d'].shape)\n",
    "print(len(data['joint_len']))\n"
   ]
  },
  {
   "cell_type": "code",
   "execution_count": 33,
   "metadata": {},
   "outputs": [
    {
     "name": "stdout",
     "output_type": "stream",
     "text": [
      "dict_keys(['kp3d', 'kp3d_score', 'kp3d_err', 'joint_len'])\n",
      "(4, 84949, 17, 3)\n",
      "4\n"
     ]
    }
   ],
   "source": [
    "import pickle\n",
    "\n",
    "with open('/mnt/nas_siddharth/backup/results3D/gp1d_20211015_170000/kp3d.pickle', 'rb') as f:\n",
    "    data = pickle.load(f)\n",
    "\n",
    "print(data.keys())\n",
    "print(data['kp3d'].shape)\n",
    "print(len(data['joint_len']))\n"
   ]
  },
  {
   "cell_type": "code",
   "execution_count": null,
   "metadata": {},
   "outputs": [
    {
     "name": "stdout",
     "output_type": "stream",
     "text": [
      "gp1d_20211015_170000\n",
      "2013 353 164 0.9246669728984842 0.8508030431107354\n",
      "TOTAL:\n",
      "2013.0 353.0 164.0 0.9246669728984842 0.8508030431107354\n"
     ]
    }
   ],
   "source": [
    "#result_dir = '/mnt/nas_siddharth/backup/results3D'\n",
    "result_dir = './for_validation'\n",
    "\n",
    "data_names = ['gp1d_20211015_170000']\n",
    "KF_range = [[5900, 6650]]\n",
    "\n",
    "result = np.zeros([len(data_names), 3])\n",
    "for j, data_name in enumerate(data_names):\n",
    "    print(data_name)\n",
    "    TP, FN, FP, precision, recall = check_performance(data_name, result_dir, kf_range=KF_range[j])\n",
    "    result[j,0] = TP\n",
    "    result[j,1] = FN\n",
    "    result[j,2] = FP\n",
    "\n",
    "print('TOTAL:')\n",
    "result_total = np.sum(result, axis=0)\n",
    "TP = result_total[0]\n",
    "FN = result_total[1]\n",
    "FP = result_total[2]\n",
    "\n",
    "precision = TP/(TP+FP)\n",
    "recall = TP/(TP+FN)\n",
    "\n",
    "print(TP, FN, FP, precision, recall)"
   ]
  },
  {
   "cell_type": "code",
   "execution_count": 35,
   "metadata": {},
   "outputs": [
    {
     "name": "stdout",
     "output_type": "stream",
     "text": [
      "gp1d_20211015_170000\n",
      "2013 353 164 0.9246669728984842 0.8508030431107354\n",
      "TOTAL:\n",
      "2013.0 353.0 164.0 0.9246669728984842 0.8508030431107354\n"
     ]
    }
   ],
   "source": [
    "#result_dir = '/mnt/nas_siddharth/backup/results3D'\n",
    "result_dir = './for_validation_2'\n",
    "#data_names = [\n",
    "#    'gp1d_20211015_170000'\n",
    "#]\n",
    "data_names = ['gp1d_20211015_170000']\n",
    "KF_range = [[5900, 6650]]\n",
    "\n",
    "result = np.zeros([len(data_names), 3])\n",
    "for j, data_name in enumerate(data_names):\n",
    "    print(data_name)\n",
    "    TP, FN, FP, precision, recall = check_performance(data_name, result_dir, kf_range=KF_range[j])\n",
    "    result[j,0] = TP\n",
    "    result[j,1] = FN\n",
    "    result[j,2] = FP\n",
    "\n",
    "print('TOTAL:')\n",
    "result_total = np.sum(result, axis=0)\n",
    "TP = result_total[0]\n",
    "FN = result_total[1]\n",
    "FP = result_total[2]\n",
    "\n",
    "precision = TP/(TP+FP)\n",
    "recall = TP/(TP+FN)\n",
    "\n",
    "print(TP, FN, FP, precision, recall)"
   ]
  }
 ],
 "metadata": {
  "kernelspec": {
   "display_name": "openmmlab",
   "language": "python",
   "name": "python3"
  },
  "language_info": {
   "codemirror_mode": {
    "name": "ipython",
    "version": 3
   },
   "file_extension": ".py",
   "mimetype": "text/x-python",
   "name": "python",
   "nbconvert_exporter": "python",
   "pygments_lexer": "ipython3",
   "version": "3.9.21"
  },
  "orig_nbformat": 4
 },
 "nbformat": 4,
 "nbformat_minor": 2
}
